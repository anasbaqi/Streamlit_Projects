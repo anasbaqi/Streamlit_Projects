{
 "cells": [
  {
   "cell_type": "code",
   "execution_count": 2,
   "metadata": {},
   "outputs": [],
   "source": [
    "import wbgapi as wb\n",
    "import pandas as pd\n",
    "import matplotlib.pyplot as pt"
   ]
  },
  {
   "cell_type": "code",
   "execution_count": 4,
   "metadata": {},
   "outputs": [
    {
     "data": {
      "text/html": [
       "<div class=\"wbgapi\"><table>\n",
       "<thead>\n",
       "<tr><th>id                  </th><th>value                                                                                                                            </th></tr>\n",
       "</thead>\n",
       "<tbody>\n",
       "<tr><td>EN.ATM.CO2E.EG.ZS   </td><td>CO2 intensity (kg per kg of oil equivalent energy use)                                                                           </td></tr>\n",
       "<tr><td>EN.ATM.CO2E.GF.KT   </td><td>CO2 emissions from gaseous fuel consumption (kt)                                                                                 </td></tr>\n",
       "<tr><td>EN.ATM.CO2E.GF.ZS   </td><td>CO2 emissions from gaseous fuel consumption (% of total)                                                                         </td></tr>\n",
       "<tr><td>EN.ATM.CO2E.KD.GD   </td><td>CO2 emissions (kg per 2015 US$ of GDP)                                                                                           </td></tr>\n",
       "<tr><td>EN.ATM.CO2E.KT      </td><td>CO2 emissions (kt)                                                                                                               </td></tr>\n",
       "<tr><td>EN.ATM.CO2E.LF.KT   </td><td>CO2 emissions from liquid fuel consumption (kt)                                                                                  </td></tr>\n",
       "<tr><td>EN.ATM.CO2E.LF.ZS   </td><td>CO2 emissions from liquid fuel consumption (% of total)                                                                          </td></tr>\n",
       "<tr><td>EN.ATM.CO2E.PC      </td><td>CO2 emissions (metric tons per capita)                                                                                           </td></tr>\n",
       "<tr><td>EN.ATM.CO2E.PP.GD   </td><td>CO2 emissions (kg per PPP $ of GDP)                                                                                              </td></tr>\n",
       "<tr><td>EN.ATM.CO2E.PP.GD.KD</td><td>CO2 emissions (kg per 2017 PPP $ of GDP)                                                                                         </td></tr>\n",
       "<tr><td>EN.ATM.CO2E.SF.KT   </td><td>CO2 emissions from solid fuel consumption (kt)                                                                                   </td></tr>\n",
       "<tr><td>EN.ATM.CO2E.SF.ZS   </td><td>CO2 emissions from solid fuel consumption (% of total)                                                                           </td></tr>\n",
       "<tr><td>EN.CO2.BLDG.ZS      </td><td>CO2 emissions from residential buildings and commercial and public services (% of total fuel combustion)                         </td></tr>\n",
       "<tr><td>EN.CO2.ETOT.ZS      </td><td>CO2 emissions from electricity and heat production, total (% of total fuel combustion)                                           </td></tr>\n",
       "<tr><td>EN.CO2.MANF.ZS      </td><td>CO2 emissions from manufacturing industries and construction (% of total fuel combustion)                                        </td></tr>\n",
       "<tr><td>EN.CO2.OTHX.ZS      </td><td>CO2 emissions from other sectors, excluding residential buildings and commercial and public services (% of total fuel combustion)</td></tr>\n",
       "<tr><td>EN.CO2.TRAN.ZS      </td><td>CO2 emissions from transport (% of total fuel combustion)                                                                        </td></tr>\n",
       "<tr><td>                    </td><td>17 elements                                                                                                                      </td></tr>\n",
       "</tbody>\n",
       "</table></div>"
      ],
      "text/plain": [
       "id                    value\n",
       "--------------------  ---------------------------------------------------------------------------------------------------------------------------------\n",
       "EN.ATM.CO2E.EG.ZS     CO2 intensity (kg per kg of oil equivalent energy use)\n",
       "EN.ATM.CO2E.GF.KT     CO2 emissions from gaseous fuel consumption (kt)\n",
       "EN.ATM.CO2E.GF.ZS     CO2 emissions from gaseous fuel consumption (% of total)\n",
       "EN.ATM.CO2E.KD.GD     CO2 emissions (kg per 2015 US$ of GDP)\n",
       "EN.ATM.CO2E.KT        CO2 emissions (kt)\n",
       "EN.ATM.CO2E.LF.KT     CO2 emissions from liquid fuel consumption (kt)\n",
       "EN.ATM.CO2E.LF.ZS     CO2 emissions from liquid fuel consumption (% of total)\n",
       "EN.ATM.CO2E.PC        CO2 emissions (metric tons per capita)\n",
       "EN.ATM.CO2E.PP.GD     CO2 emissions (kg per PPP $ of GDP)\n",
       "EN.ATM.CO2E.PP.GD.KD  CO2 emissions (kg per 2017 PPP $ of GDP)\n",
       "EN.ATM.CO2E.SF.KT     CO2 emissions from solid fuel consumption (kt)\n",
       "EN.ATM.CO2E.SF.ZS     CO2 emissions from solid fuel consumption (% of total)\n",
       "EN.CO2.BLDG.ZS        CO2 emissions from residential buildings and commercial and public services (% of total fuel combustion)\n",
       "EN.CO2.ETOT.ZS        CO2 emissions from electricity and heat production, total (% of total fuel combustion)\n",
       "EN.CO2.MANF.ZS        CO2 emissions from manufacturing industries and construction (% of total fuel combustion)\n",
       "EN.CO2.OTHX.ZS        CO2 emissions from other sectors, excluding residential buildings and commercial and public services (% of total fuel combustion)\n",
       "EN.CO2.TRAN.ZS        CO2 emissions from transport (% of total fuel combustion)\n",
       "                      17 elements"
      ]
     },
     "execution_count": 4,
     "metadata": {},
     "output_type": "execute_result"
    }
   ],
   "source": [
    "wb.series.info(q='co2')"
   ]
  },
  {
   "cell_type": "code",
   "execution_count": 16,
   "metadata": {},
   "outputs": [],
   "source": [
    "val = wb.search('pollution')"
   ]
  },
  {
   "cell_type": "code",
   "execution_count": 11,
   "metadata": {},
   "outputs": [
    {
     "data": {
      "text/html": [
       "<div>\n",
       "<style scoped>\n",
       "    .dataframe tbody tr th:only-of-type {\n",
       "        vertical-align: middle;\n",
       "    }\n",
       "\n",
       "    .dataframe tbody tr th {\n",
       "        vertical-align: top;\n",
       "    }\n",
       "\n",
       "    .dataframe thead th {\n",
       "        text-align: right;\n",
       "    }\n",
       "</style>\n",
       "<table border=\"1\" class=\"dataframe\">\n",
       "  <thead>\n",
       "    <tr style=\"text-align: right;\">\n",
       "      <th></th>\n",
       "      <th>Country</th>\n",
       "      <th>YR2018</th>\n",
       "      <th>YR2019</th>\n",
       "      <th>YR2020</th>\n",
       "      <th>YR2021</th>\n",
       "      <th>YR2022</th>\n",
       "    </tr>\n",
       "    <tr>\n",
       "      <th>economy</th>\n",
       "      <th></th>\n",
       "      <th></th>\n",
       "      <th></th>\n",
       "      <th></th>\n",
       "      <th></th>\n",
       "      <th></th>\n",
       "    </tr>\n",
       "  </thead>\n",
       "  <tbody>\n",
       "    <tr>\n",
       "      <th>ZWE</th>\n",
       "      <td>Zimbabwe</td>\n",
       "      <td>1419684.0</td>\n",
       "      <td>1368117.0</td>\n",
       "      <td>1446029.0</td>\n",
       "      <td>1322342.0</td>\n",
       "      <td>NaN</td>\n",
       "    </tr>\n",
       "    <tr>\n",
       "      <th>ZMB</th>\n",
       "      <td>Zambia</td>\n",
       "      <td>1200537.0</td>\n",
       "      <td>927238.0</td>\n",
       "      <td>1486760.0</td>\n",
       "      <td>1565771.0</td>\n",
       "      <td>NaN</td>\n",
       "    </tr>\n",
       "    <tr>\n",
       "      <th>YEM</th>\n",
       "      <td>Yemen, Rep.</td>\n",
       "      <td>504737.0</td>\n",
       "      <td>528078.0</td>\n",
       "      <td>454087.0</td>\n",
       "      <td>492543.0</td>\n",
       "      <td>NaN</td>\n",
       "    </tr>\n",
       "    <tr>\n",
       "      <th>PSE</th>\n",
       "      <td>West Bank and Gaza</td>\n",
       "      <td>25124.0</td>\n",
       "      <td>24794.0</td>\n",
       "      <td>24740.0</td>\n",
       "      <td>24527.0</td>\n",
       "      <td>NaN</td>\n",
       "    </tr>\n",
       "    <tr>\n",
       "      <th>VIR</th>\n",
       "      <td>Virgin Islands (U.S.)</td>\n",
       "      <td>NaN</td>\n",
       "      <td>NaN</td>\n",
       "      <td>NaN</td>\n",
       "      <td>NaN</td>\n",
       "      <td>NaN</td>\n",
       "    </tr>\n",
       "    <tr>\n",
       "      <th>...</th>\n",
       "      <td>...</td>\n",
       "      <td>...</td>\n",
       "      <td>...</td>\n",
       "      <td>...</td>\n",
       "      <td>...</td>\n",
       "      <td>...</td>\n",
       "    </tr>\n",
       "    <tr>\n",
       "      <th>CEB</th>\n",
       "      <td>Central Europe and the Baltics</td>\n",
       "      <td>22180730.0</td>\n",
       "      <td>23009120.0</td>\n",
       "      <td>22343920.0</td>\n",
       "      <td>22302980.0</td>\n",
       "      <td>NaN</td>\n",
       "    </tr>\n",
       "    <tr>\n",
       "      <th>CSS</th>\n",
       "      <td>Caribbean small states</td>\n",
       "      <td>256444.0</td>\n",
       "      <td>275962.0</td>\n",
       "      <td>284463.0</td>\n",
       "      <td>247485.0</td>\n",
       "      <td>NaN</td>\n",
       "    </tr>\n",
       "    <tr>\n",
       "      <th>ARB</th>\n",
       "      <td>Arab World</td>\n",
       "      <td>28847870.0</td>\n",
       "      <td>29353241.0</td>\n",
       "      <td>28426073.0</td>\n",
       "      <td>27538741.0</td>\n",
       "      <td>NaN</td>\n",
       "    </tr>\n",
       "    <tr>\n",
       "      <th>AFW</th>\n",
       "      <td>Africa Western and Central</td>\n",
       "      <td>58711864.0</td>\n",
       "      <td>57456450.0</td>\n",
       "      <td>56694908.0</td>\n",
       "      <td>56804850.0</td>\n",
       "      <td>NaN</td>\n",
       "    </tr>\n",
       "    <tr>\n",
       "      <th>AFE</th>\n",
       "      <td>Africa Eastern and Southern</td>\n",
       "      <td>55112917.0</td>\n",
       "      <td>52178855.0</td>\n",
       "      <td>54523607.0</td>\n",
       "      <td>55605836.0</td>\n",
       "      <td>NaN</td>\n",
       "    </tr>\n",
       "  </tbody>\n",
       "</table>\n",
       "<p>266 rows × 6 columns</p>\n",
       "</div>"
      ],
      "text/plain": [
       "                                Country      YR2018      YR2019      YR2020  \\\n",
       "economy                                                                       \n",
       "ZWE                            Zimbabwe   1419684.0   1368117.0   1446029.0   \n",
       "ZMB                              Zambia   1200537.0    927238.0   1486760.0   \n",
       "YEM                         Yemen, Rep.    504737.0    528078.0    454087.0   \n",
       "PSE                  West Bank and Gaza     25124.0     24794.0     24740.0   \n",
       "VIR               Virgin Islands (U.S.)         NaN         NaN         NaN   \n",
       "...                                 ...         ...         ...         ...   \n",
       "CEB      Central Europe and the Baltics  22180730.0  23009120.0  22343920.0   \n",
       "CSS              Caribbean small states    256444.0    275962.0    284463.0   \n",
       "ARB                          Arab World  28847870.0  29353241.0  28426073.0   \n",
       "AFW          Africa Western and Central  58711864.0  57456450.0  56694908.0   \n",
       "AFE         Africa Eastern and Southern  55112917.0  52178855.0  54523607.0   \n",
       "\n",
       "             YR2021  YR2022  \n",
       "economy                      \n",
       "ZWE       1322342.0     NaN  \n",
       "ZMB       1565771.0     NaN  \n",
       "YEM        492543.0     NaN  \n",
       "PSE         24527.0     NaN  \n",
       "VIR             NaN     NaN  \n",
       "...             ...     ...  \n",
       "CEB      22302980.0     NaN  \n",
       "CSS        247485.0     NaN  \n",
       "ARB      27538741.0     NaN  \n",
       "AFW      56804850.0     NaN  \n",
       "AFE      55605836.0     NaN  \n",
       "\n",
       "[266 rows x 6 columns]"
      ]
     },
     "execution_count": 11,
     "metadata": {},
     "output_type": "execute_result"
    }
   ],
   "source": [
    "wb.data.DataFrame('AG.LND.CREL.HA', time=range(2018, 2023, 1), labels=True)"
   ]
  },
  {
   "cell_type": "code",
   "execution_count": 23,
   "metadata": {},
   "outputs": [
    {
     "data": {
      "text/html": [
       "<div class=\"wbgapi\"><table>\n",
       "<thead>\n",
       "<tr><th>id            </th><th>value                                  </th></tr>\n",
       "</thead>\n",
       "<tbody>\n",
       "<tr><td>AG.LND.CREL.HA</td><td>Land under cereal production (hectares)</td></tr>\n",
       "<tr><td>              </td><td>1 elements                             </td></tr>\n",
       "</tbody>\n",
       "</table></div>"
      ],
      "text/plain": [
       "id              value\n",
       "--------------  ---------------------------------------\n",
       "AG.LND.CREL.HA  Land under cereal production (hectares)\n",
       "                1 elements"
      ]
     },
     "execution_count": 23,
     "metadata": {},
     "output_type": "execute_result"
    }
   ],
   "source": [
    "wb.series.info('AG.LND.CREL.HA')"
   ]
  },
  {
   "cell_type": "code",
   "execution_count": 24,
   "metadata": {},
   "outputs": [
    {
     "data": {
      "text/html": [
       "<div class=\"wbgapi\"><h4>Series: AG.LND.CREL.HA</h4><table>\n",
       "<thead>\n",
       "<tr><th>Field                           </th><th>Value                                                                                                                                                                                                                                                                                                                                                                                                                 </th></tr>\n",
       "</thead>\n",
       "<tbody>\n",
       "<tr><td>Aggregationmethod               </td><td>Sum                                                                                                                                                                                                                                                                                                                                                                                                                   </td></tr>\n",
       "<tr><td>Developmentrelevance            </td><td>The cultivation of cereals varies widely in different countries and depends partly upon the development of the economy. Production depends on the nature of the soil, the amount of rainfall, irrigation, quality od seeds, and the techniques applied to promote growth.\n",
       "\n",
       "In developed countries, cereal crops are universally machine-harvested, typically using a combine harvester, which cuts, threshes, and winnows the grain during a single pass across the field. In many industrialized countries, particularly in the United States and Canada, farmers commonly deliver their newly harvested grain to a grain elevator or a storage facility that consolidates the crops of many farmers. In developing countries, a variety of harvesting methods are used in cereal cultivation, depending on the cost of labor, from small combines to hand tools such as the scythe or cradle.\n",
       "\n",
       "Crop production systems have evolved rapidly over the past century and have resulted in significantly increased crop yields, but have also created undesirable environmental side-effects such as soil degradation and erosion, pollution from chemical fertilizers and agrochemicals and a loss of bio-diversity. Factors such as the green revolution, has led to impressive progress in increasing cereals yields over the last few decades. This progress, however, is not equal across all regions. Continued progress depends on maintaining agricultural research and education. The cultivation of cereals varies widely in different countries and depends partly upon the development of the economy. Production depends on the nature of the soil, the amount of rainfall, irrigation, quality of seeds, and the techniques applied to promote growth.\n",
       "\n",
       "Agriculture is still a major sector in many economies, and agricultural activities provide developing countries with food and revenue. But agricultural activities also can degrade natural resources. Poor farming practices can cause soil erosion and loss of soil fertility. Efforts to increase productivity by using chemical fertilizers, pesticides, and intensive irrigation have environmental costs and health impacts. Salinization of irrigated land diminishes soil fertility. Thus, inappropriate use of inputs for agricultural production has far-reaching effects.\n",
       "\n",
       "There is no single correct mix of inputs to the agricultural land, as it is dependent on local climate, land quality, and economic development; appropriate levels and application rates vary by country and over time and depend on the type of crops, the climate and soils, and the production process used.                                                                                                                                                                                                                                                                                                                                                                                                                       </td></tr>\n",
       "<tr><td>IndicatorName                   </td><td>Land under cereal production (hectares)                                                                                                                                                                                                                                                                                                                                                                               </td></tr>\n",
       "<tr><td>License_Type                    </td><td>CC BY-4.0                                                                                                                                                                                                                                                                                                                                                                                                             </td></tr>\n",
       "<tr><td>License_URL                     </td><td>https://datacatalog.worldbank.org/public-licenses#cc-by                                                                                                                                                                                                                                                                                                                                                               </td></tr>\n",
       "<tr><td>Limitationsandexceptions        </td><td>The data are collected by the Food and Agriculture Organization of the United Nations (FAO) through annual questionnaires. They are supplemented with information from official secondary data sources. The secondary sources cover official country data from websites of national ministries, national publications and related country data reported by various international organizations. The FAO tries to impose standard definitions and reporting methods, but complete consistency across countries and over time is not possible. Thus, data on agricultural land in different climates may not be comparable. For example, permanent pastures are quite different in nature and intensity in African countries and dry Middle Eastern countries.\n",
       "\n",
       "Data on agricultural land are valuable for conducting studies on a various perspectives concerning agricultural production, food security and for deriving cropping intensity among others uses.                                                                                                                                                                                                                                                                                                                                                                                                                       </td></tr>\n",
       "<tr><td>Longdefinition                  </td><td>Land under cereal production refers to harvested area, although some countries report only sown or cultivated area. Cereals include wheat, rice, maize, barley, oats, rye, millet, sorghum, buckwheat, and mixed grains. Production data on cereals relate to crops harvested for dry grain only. Cereal crops harvested for hay or harvested green for food, feed, or silage and those used for grazing are excluded.</td></tr>\n",
       "<tr><td>Periodicity                     </td><td>Annual                                                                                                                                                                                                                                                                                                                                                                                                                </td></tr>\n",
       "<tr><td>Source                          </td><td>Food and Agriculture Organization, electronic files and web site.                                                                                                                                                                                                                                                                                                                                                     </td></tr>\n",
       "<tr><td>Statisticalconceptandmethodology</td><td>Cereals production includes wheat, rice, maize, barley, oats, rye, millet, sorghum, buckwheat, and mixed grains. Production data on cereals relate to crops harvested for dry grain only. Cereal crops harvested for hay or harvested green for food, feed, or silage and those used for grazing are excluded.\n",
       "\n",
       "A cereal is a grass cultivated for the edible components of their grain, composed of the endosperm, germ, and bran. Cereal grains are grown in greater quantities and provide more food energy worldwide than any other type of crop; cereal crops therefore can also be called staple crops.                                                                                                                                                                                                                                                                                                                                                                                                                       </td></tr>\n",
       "<tr><td>Topic                           </td><td>Environment: Agricultural production                                                                                                                                                                                                                                                                                                                                                                                  </td></tr>\n",
       "<tr><td>Unitofmeasure                   </td><td>Hectares                                                                                                                                                                                                                                                                                                                                                                                                              </td></tr>\n",
       "</tbody>\n",
       "</table></div>"
      ],
      "text/plain": [
       "========\n",
       "Series: AG.LND.CREL.HA\n",
       "\n",
       "Aggregationmethod: Sum\n",
       "--------\n",
       "Developmentrelevance: The cultivation of cereals varies widely in different countries and depends partly upon the development of the economy. Production depends on the nature of the soil, the amount of rainfall, irrigation, quality od seeds, and the techniques applied to promote growth.\n",
       "\n",
       "In developed countries, cereal crops are universally machine-harvested, typically using a combine harvester, which cuts, threshes, and winnows the grain during a single pass across the field. In many industrialized countries, particularly in the United States and Canada, farmers commonly deliver their newly harvested grain to a grain elevator or a storage facility that consolidates the crops of many farmers. In developing countries, a variety of harvesting methods are used in cereal cultivation, depending on the cost of labor, from small combines to hand tools such as the scythe or cradle.\n",
       "\n",
       "Crop production systems have evolved rapidly over the past century and have resulted in significantly increased crop yields, but have also created undesirable environmental side-effects such as soil degradation and erosion, pollution from chemical fertilizers and agrochemicals and a loss of bio-diversity. Factors such as the green revolution, has led to impressive progress in increasing cereals yields over the last few decades. This progress, however, is not equal across all regions. Continued progress depends on maintaining agricultural research and education. The cultivation of cereals varies widely in different countries and depends partly upon the development of the economy. Production depends on the nature of the soil, the amount of rainfall, irrigation, quality of seeds, and the techniques applied to promote growth.\n",
       "\n",
       "Agriculture is still a major sector in many economies, and agricultural activities provide developing countries with food and revenue. But agricultural activities also can degrade natural resources. Poor farming practices can cause soil erosion and loss of soil fertility. Efforts to increase productivity by using chemical fertilizers, pesticides, and intensive irrigation have environmental costs and health impacts. Salinization of irrigated land diminishes soil fertility. Thus, inappropriate use of inputs for agricultural production has far-reaching effects.\n",
       "\n",
       "There is no single correct mix of inputs to the agricultural land, as it is dependent on local climate, land quality, and economic development; appropriate levels and application rates vary by country and over time and depend on the type of crops, the climate and soils, and the production process used.\n",
       "--------\n",
       "IndicatorName: Land under cereal production (hectares)\n",
       "--------\n",
       "License_Type: CC BY-4.0\n",
       "--------\n",
       "License_URL: https://datacatalog.worldbank.org/public-licenses#cc-by\n",
       "--------\n",
       "Limitationsandexceptions: The data are collected by the Food and Agriculture Organization of the United Nations (FAO) through annual questionnaires. They are supplemented with information from official secondary data sources. The secondary sources cover official country data from websites of national ministries, national publications and related country data reported by various international organizations. The FAO tries to impose standard definitions and reporting methods, but complete consistency across countries and over time is not possible. Thus, data on agricultural land in different climates may not be comparable. For example, permanent pastures are quite different in nature and intensity in African countries and dry Middle Eastern countries.\n",
       "\n",
       "Data on agricultural land are valuable for conducting studies on a various perspectives concerning agricultural production, food security and for deriving cropping intensity among others uses.\n",
       "--------\n",
       "Longdefinition: Land under cereal production refers to harvested area, although some countries report only sown or cultivated area. Cereals include wheat, rice, maize, barley, oats, rye, millet, sorghum, buckwheat, and mixed grains. Production data on cereals relate to crops harvested for dry grain only. Cereal crops harvested for hay or harvested green for food, feed, or silage and those used for grazing are excluded.\n",
       "--------\n",
       "Periodicity: Annual\n",
       "--------\n",
       "Source: Food and Agriculture Organization, electronic files and web site.\n",
       "--------\n",
       "Statisticalconceptandmethodology: Cereals production includes wheat, rice, maize, barley, oats, rye, millet, sorghum, buckwheat, and mixed grains. Production data on cereals relate to crops harvested for dry grain only. Cereal crops harvested for hay or harvested green for food, feed, or silage and those used for grazing are excluded.\n",
       "\n",
       "A cereal is a grass cultivated for the edible components of their grain, composed of the endosperm, germ, and bran. Cereal grains are grown in greater quantities and provide more food energy worldwide than any other type of crop; cereal crops therefore can also be called staple crops.\n",
       "--------\n",
       "Topic: Environment: Agricultural production\n",
       "--------\n",
       "Unitofmeasure: Hectares"
      ]
     },
     "execution_count": 24,
     "metadata": {},
     "output_type": "execute_result"
    }
   ],
   "source": [
    "wb.series.metadata.get('AG.LND.CREL.HA')"
   ]
  },
  {
   "cell_type": "code",
   "execution_count": 10,
   "metadata": {},
   "outputs": [
    {
     "data": {
      "text/html": [
       "<div class=\"wbgapi\"><table>\n",
       "<thead>\n",
       "<tr><th>id               </th><th>value                                                               </th></tr>\n",
       "</thead>\n",
       "<tbody>\n",
       "<tr><td>GC.TAX.EXPT.CN   </td><td>Taxes on exports (current LCU)                                      </td></tr>\n",
       "<tr><td>GC.TAX.EXPT.ZS   </td><td>Taxes on exports (% of tax revenue)                                 </td></tr>\n",
       "<tr><td>GC.TAX.GSRV.CN   </td><td>Taxes on goods and services (current LCU)                           </td></tr>\n",
       "<tr><td>GC.TAX.GSRV.RV.ZS</td><td>Taxes on goods and services (% of revenue)                          </td></tr>\n",
       "<tr><td>GC.TAX.GSRV.VA.ZS</td><td>Taxes on goods and services (% value added of industry and services)</td></tr>\n",
       "<tr><td>GC.TAX.INTT.CN   </td><td>Taxes on international trade (current LCU)                          </td></tr>\n",
       "<tr><td>GC.TAX.INTT.RV.ZS</td><td>Taxes on international trade (% of revenue)                         </td></tr>\n",
       "<tr><td>GC.TAX.OTHR.CN   </td><td>Other taxes (current LCU)                                           </td></tr>\n",
       "<tr><td>GC.TAX.OTHR.RV.ZS</td><td>Other taxes (% of revenue)                                          </td></tr>\n",
       "<tr><td>GC.TAX.YPKG.CN   </td><td>Taxes on income, profits and capital gains (current LCU)            </td></tr>\n",
       "<tr><td>GC.TAX.YPKG.RV.ZS</td><td>Taxes on income, profits and capital gains (% of revenue)           </td></tr>\n",
       "<tr><td>GC.TAX.YPKG.ZS   </td><td>Taxes on income, profits and capital gains (% of total taxes)       </td></tr>\n",
       "<tr><td>IC.TAX.DURS      </td><td>Time to prepare and pay taxes (hours)                               </td></tr>\n",
       "<tr><td>IC.TAX.OTHR.CP.ZS</td><td>Other taxes payable by businesses (% of commercial profits)         </td></tr>\n",
       "<tr><td>NY.TAX.NIND.CD   </td><td>Taxes less subsidies on products (current US$)                      </td></tr>\n",
       "<tr><td>NY.TAX.NIND.CN   </td><td>Taxes less subsidies on products (current LCU)                      </td></tr>\n",
       "<tr><td>NY.TAX.NIND.KN   </td><td>Taxes less subsidies on products (constant LCU)                     </td></tr>\n",
       "<tr><td>                 </td><td>17 elements                                                         </td></tr>\n",
       "</tbody>\n",
       "</table></div>"
      ],
      "text/plain": [
       "id                 value\n",
       "-----------------  --------------------------------------------------------------------\n",
       "GC.TAX.EXPT.CN     Taxes on exports (current LCU)\n",
       "GC.TAX.EXPT.ZS     Taxes on exports (% of tax revenue)\n",
       "GC.TAX.GSRV.CN     Taxes on goods and services (current LCU)\n",
       "GC.TAX.GSRV.RV.ZS  Taxes on goods and services (% of revenue)\n",
       "GC.TAX.GSRV.VA.ZS  Taxes on goods and services (% value added of industry and services)\n",
       "GC.TAX.INTT.CN     Taxes on international trade (current LCU)\n",
       "GC.TAX.INTT.RV.ZS  Taxes on international trade (% of revenue)\n",
       "GC.TAX.OTHR.CN     Other taxes (current LCU)\n",
       "GC.TAX.OTHR.RV.ZS  Other taxes (% of revenue)\n",
       "GC.TAX.YPKG.CN     Taxes on income, profits and capital gains (current LCU)\n",
       "GC.TAX.YPKG.RV.ZS  Taxes on income, profits and capital gains (% of revenue)\n",
       "GC.TAX.YPKG.ZS     Taxes on income, profits and capital gains (% of total taxes)\n",
       "IC.TAX.DURS        Time to prepare and pay taxes (hours)\n",
       "IC.TAX.OTHR.CP.ZS  Other taxes payable by businesses (% of commercial profits)\n",
       "NY.TAX.NIND.CD     Taxes less subsidies on products (current US$)\n",
       "NY.TAX.NIND.CN     Taxes less subsidies on products (current LCU)\n",
       "NY.TAX.NIND.KN     Taxes less subsidies on products (constant LCU)\n",
       "                   17 elements"
      ]
     },
     "execution_count": 10,
     "metadata": {},
     "output_type": "execute_result"
    }
   ],
   "source": [
    "wb.series.info(q='taxes')"
   ]
  },
  {
   "cell_type": "code",
   "execution_count": null,
   "metadata": {},
   "outputs": [],
   "source": [
    "wb.series.info(q='income')"
   ]
  },
  {
   "cell_type": "code",
   "execution_count": 12,
   "metadata": {},
   "outputs": [],
   "source": [
    "topic1 = 'income'\n",
    "topic2 = 'tax'"
   ]
  },
  {
   "cell_type": "code",
   "execution_count": 13,
   "metadata": {},
   "outputs": [],
   "source": [
    "search1 = wb.series.info(q='income')"
   ]
  },
  {
   "cell_type": "code",
   "execution_count": 39,
   "metadata": {},
   "outputs": [
    {
     "name": "stdout",
     "output_type": "stream",
     "text": [
      "BM.GSR.TOTL.CD\n"
     ]
    }
   ],
   "source": [
    "print(search1.items[1]['id'])"
   ]
  },
  {
   "cell_type": "code",
   "execution_count": 40,
   "metadata": {},
   "outputs": [],
   "source": [
    "search2 = wb.series.info(q='taxes')"
   ]
  },
  {
   "cell_type": "code",
   "execution_count": 41,
   "metadata": {},
   "outputs": [
    {
     "name": "stdout",
     "output_type": "stream",
     "text": [
      "GC.TAX.EXPT.ZS\n"
     ]
    }
   ],
   "source": [
    "print(search2.items[1]['id'])"
   ]
  },
  {
   "cell_type": "code",
   "execution_count": 43,
   "metadata": {},
   "outputs": [],
   "source": [
    "search1_ids = [item['id'] for item in search1.items]\n",
    "search2_ids = [item['id'] for item in search2.items]"
   ]
  },
  {
   "cell_type": "code",
   "execution_count": 44,
   "metadata": {},
   "outputs": [],
   "source": [
    "common_ids = set(search1_ids) & set(search2_ids)"
   ]
  },
  {
   "cell_type": "code",
   "execution_count": 83,
   "metadata": {},
   "outputs": [
    {
     "name": "stdout",
     "output_type": "stream",
     "text": [
      "['BM.GSR.FCTY.CD', 'BM.GSR.TOTL.CD', 'BM.TRF.PRVT.CD', 'BN.GSR.FCTY.CD', 'BN.TRF.CURR.CD', 'BX.GSR.FCTY.CD', 'BX.GSR.TOTL.CD', 'BX.TRF.CURR.CD', 'GC.TAX.YPKG.CN', 'GC.TAX.YPKG.RV.ZS', 'GC.TAX.YPKG.ZS', 'NY.ADJ.NNTY.CD', 'NY.ADJ.NNTY.KD', 'NY.ADJ.NNTY.KD.ZG', 'NY.ADJ.NNTY.PC.CD', 'NY.ADJ.NNTY.PC.KD', 'NY.ADJ.NNTY.PC.KD.ZG', 'NY.GDY.TOTL.KN', 'NY.GSR.NFCY.CD', 'NY.GSR.NFCY.CN', 'NY.GSR.NFCY.KN', 'NY.TRF.NCTR.CD', 'NY.TRF.NCTR.CN', 'NY.TRF.NCTR.KN', 'SH.UHC.OOPC.10.TO', 'SH.UHC.OOPC.10.ZS', 'SH.UHC.OOPC.25.TO', 'SH.UHC.OOPC.25.ZS', 'SI.DST.02ND.20', 'SI.DST.03RD.20', 'SI.DST.04TH.20', 'SI.DST.05TH.20', 'SI.DST.10TH.10', 'SI.DST.50MD', 'SI.DST.FRST.10', 'SI.DST.FRST.20', 'SI.SPR.PC40', 'SI.SPR.PC40.ZG', 'SI.SPR.PCAP', 'SI.SPR.PCAP.ZG', 'TM.VAL.MRCH.HI.ZS', 'TM.VAL.MRCH.OR.ZS', 'TM.VAL.MRCH.R1.ZS', 'TM.VAL.MRCH.R2.ZS', 'TM.VAL.MRCH.R3.ZS', 'TM.VAL.MRCH.R4.ZS', 'TM.VAL.MRCH.R5.ZS', 'TM.VAL.MRCH.R6.ZS', 'TM.VAL.MRCH.WR.ZS', 'TX.VAL.MRCH.HI.ZS', 'TX.VAL.MRCH.OR.ZS', 'TX.VAL.MRCH.R1.ZS', 'TX.VAL.MRCH.R2.ZS', 'TX.VAL.MRCH.R3.ZS', 'TX.VAL.MRCH.R4.ZS', 'TX.VAL.MRCH.R5.ZS', 'TX.VAL.MRCH.R6.ZS', 'TX.VAL.MRCH.WR.ZS']\n"
     ]
    }
   ],
   "source": [
    "print(search1_ids)"
   ]
  },
  {
   "cell_type": "code",
   "execution_count": 46,
   "metadata": {},
   "outputs": [],
   "source": [
    "common_ids_info = [wb.series.info(item) for item in common_ids]"
   ]
  },
  {
   "cell_type": "code",
   "execution_count": 61,
   "metadata": {},
   "outputs": [
    {
     "name": "stdout",
     "output_type": "stream",
     "text": [
      "Taxes on income, profits and capital gains (% of revenue)\n"
     ]
    }
   ],
   "source": [
    "print(common_ids_info[0].items[0]['value'])"
   ]
  },
  {
   "cell_type": "code",
   "execution_count": 63,
   "metadata": {},
   "outputs": [
    {
     "name": "stdout",
     "output_type": "stream",
     "text": [
      "GC.TAX.YPKG.RV.ZS\n"
     ]
    }
   ],
   "source": [
    "print(common_ids_info[0].items[0]['id'])"
   ]
  },
  {
   "cell_type": "code",
   "execution_count": 75,
   "metadata": {},
   "outputs": [
    {
     "data": {
      "text/html": [
       "<div>\n",
       "<style scoped>\n",
       "    .dataframe tbody tr th:only-of-type {\n",
       "        vertical-align: middle;\n",
       "    }\n",
       "\n",
       "    .dataframe tbody tr th {\n",
       "        vertical-align: top;\n",
       "    }\n",
       "\n",
       "    .dataframe thead th {\n",
       "        text-align: right;\n",
       "    }\n",
       "</style>\n",
       "<table border=\"1\" class=\"dataframe\">\n",
       "  <thead>\n",
       "    <tr style=\"text-align: right;\">\n",
       "      <th></th>\n",
       "      <th>Country</th>\n",
       "      <th>YR2018</th>\n",
       "      <th>YR2019</th>\n",
       "      <th>YR2020</th>\n",
       "      <th>YR2021</th>\n",
       "      <th>YR2022</th>\n",
       "    </tr>\n",
       "    <tr>\n",
       "      <th>economy</th>\n",
       "      <th></th>\n",
       "      <th></th>\n",
       "      <th></th>\n",
       "      <th></th>\n",
       "      <th></th>\n",
       "      <th></th>\n",
       "    </tr>\n",
       "  </thead>\n",
       "  <tbody>\n",
       "    <tr>\n",
       "      <th>BGD</th>\n",
       "      <td>Bangladesh</td>\n",
       "      <td>26.00269</td>\n",
       "      <td>25.444803</td>\n",
       "      <td>27.278985</td>\n",
       "      <td>25.759848</td>\n",
       "      <td>NaN</td>\n",
       "    </tr>\n",
       "  </tbody>\n",
       "</table>\n",
       "</div>"
      ],
      "text/plain": [
       "            Country    YR2018     YR2019     YR2020     YR2021  YR2022\n",
       "economy                                                               \n",
       "BGD      Bangladesh  26.00269  25.444803  27.278985  25.759848     NaN"
      ]
     },
     "execution_count": 75,
     "metadata": {},
     "output_type": "execute_result"
    }
   ],
   "source": [
    "wb.data.DataFrame(common_ids_info[0].items[0]['id'], 'BGD', time=range(2018, 2023, 1), labels=True)"
   ]
  },
  {
   "cell_type": "code",
   "execution_count": 77,
   "metadata": {},
   "outputs": [],
   "source": [
    "search1_value = [item['value'] for item in search1.items]"
   ]
  },
  {
   "cell_type": "code",
   "execution_count": 82,
   "metadata": {},
   "outputs": [
    {
     "name": "stdout",
     "output_type": "stream",
     "text": [
      "id                    value\n",
      "--------------------  -------------------------------------------------------------------------------------------------------------------------------\n",
      "BM.GSR.FCTY.CD        Primary income payments (BoP, current US$)\n",
      "BM.GSR.TOTL.CD        Imports of goods, services and primary income (BoP, current US$)\n",
      "BM.TRF.PRVT.CD        Secondary income, other sectors, payments (BoP, current US$)\n",
      "BN.GSR.FCTY.CD        Net primary income (BoP, current US$)\n",
      "BN.TRF.CURR.CD        Net secondary income (BoP, current US$)\n",
      "BX.GSR.FCTY.CD        Primary income receipts (BoP, current US$)\n",
      "BX.GSR.TOTL.CD        Exports of goods, services and primary income (BoP, current US$)\n",
      "BX.TRF.CURR.CD        Secondary income receipts (BoP, current US$)\n",
      "GC.TAX.YPKG.CN        Taxes on income, profits and capital gains (current LCU)\n",
      "GC.TAX.YPKG.RV.ZS     Taxes on income, profits and capital gains (% of revenue)\n",
      "GC.TAX.YPKG.ZS        Taxes on income, profits and capital gains (% of total taxes)\n",
      "NY.ADJ.NNTY.CD        Adjusted net national income (current US$)\n",
      "NY.ADJ.NNTY.KD        Adjusted net national income (constant 2015 US$)\n",
      "NY.ADJ.NNTY.KD.ZG     Adjusted net national income (annual % growth)\n",
      "NY.ADJ.NNTY.PC.CD     Adjusted net national income per capita (current US$)\n",
      "NY.ADJ.NNTY.PC.KD     Adjusted net national income per capita (constant 2015 US$)\n",
      "NY.ADJ.NNTY.PC.KD.ZG  Adjusted net national income per capita (annual % growth)\n",
      "NY.GDY.TOTL.KN        Gross domestic income (constant LCU)\n",
      "NY.GSR.NFCY.CD        Net primary income (Net income from abroad) (current US$)\n",
      "NY.GSR.NFCY.CN        Net primary income (Net income from abroad) (current LCU)\n",
      "NY.GSR.NFCY.KN        Net primary income (Net income from abroad) (constant LCU)\n",
      "NY.TRF.NCTR.CD        Net secondary income (Net current transfers from abroad) (current US$)\n",
      "NY.TRF.NCTR.CN        Net secondary income (Net current transfers from abroad) (current LCU)\n",
      "NY.TRF.NCTR.KN        Net secondary income (Net current transfers from abroad) (constant LCU)\n",
      "SH.UHC.OOPC.10.TO     Number of people spending more than 10% of household consumption or income on out-of-pocket health care expenditure\n",
      "SH.UHC.OOPC.10.ZS     Proportion of population spending more than 10% of household consumption or income on out-of-pocket health care expenditure (%)\n",
      "SH.UHC.OOPC.25.TO     Number of people spending more than 25% of household consumption or income on out-of-pocket health care expenditure\n",
      "SH.UHC.OOPC.25.ZS     Proportion of population spending more than 25% of household consumption or income on out-of-pocket health care expenditure (%)\n",
      "SI.DST.02ND.20        Income share held by second 20%\n",
      "SI.DST.03RD.20        Income share held by third 20%\n",
      "SI.DST.04TH.20        Income share held by fourth 20%\n",
      "SI.DST.05TH.20        Income share held by highest 20%\n",
      "SI.DST.10TH.10        Income share held by highest 10%\n",
      "SI.DST.50MD           Proportion of people living below 50 percent of median income (%)\n",
      "SI.DST.FRST.10        Income share held by lowest 10%\n",
      "SI.DST.FRST.20        Income share held by lowest 20%\n",
      "SI.SPR.PC40           Survey mean consumption or income per capita, bottom 40% of population (2017 PPP $ per day)\n",
      "SI.SPR.PC40.ZG        Annualized average growth rate in per capita real survey mean consumption or income, bottom 40% of population (%)\n",
      "SI.SPR.PCAP           Survey mean consumption or income per capita, total population (2017 PPP $ per day)\n",
      "SI.SPR.PCAP.ZG        Annualized average growth rate in per capita real survey mean consumption or income, total population (%)\n",
      "TM.VAL.MRCH.HI.ZS     Merchandise imports from high-income economies (% of total merchandise imports)\n",
      "TM.VAL.MRCH.OR.ZS     Merchandise imports from low- and middle-income economies outside region (% of total merchandise imports)\n",
      "TM.VAL.MRCH.R1.ZS     Merchandise imports from low- and middle-income economies in East Asia & Pacific (% of total merchandise imports)\n",
      "TM.VAL.MRCH.R2.ZS     Merchandise imports from low- and middle-income economies in Europe & Central Asia (% of total merchandise imports)\n",
      "TM.VAL.MRCH.R3.ZS     Merchandise imports from low- and middle-income economies in Latin America & the Caribbean (% of total merchandise imports)\n",
      "TM.VAL.MRCH.R4.ZS     Merchandise imports from low- and middle-income economies in Middle East & North Africa (% of total merchandise imports)\n",
      "TM.VAL.MRCH.R5.ZS     Merchandise imports from low- and middle-income economies in South Asia (% of total merchandise imports)\n",
      "TM.VAL.MRCH.R6.ZS     Merchandise imports from low- and middle-income economies in Sub-Saharan Africa (% of total merchandise imports)\n",
      "TM.VAL.MRCH.WR.ZS     Merchandise imports from low- and middle-income economies within region (% of total merchandise imports)\n",
      "TX.VAL.MRCH.HI.ZS     Merchandise exports to high-income economies (% of total merchandise exports)\n",
      "TX.VAL.MRCH.OR.ZS     Merchandise exports to low- and middle-income economies outside region (% of total merchandise exports)\n",
      "TX.VAL.MRCH.R1.ZS     Merchandise exports to low- and middle-income economies in East Asia & Pacific (% of total merchandise exports)\n",
      "TX.VAL.MRCH.R2.ZS     Merchandise exports to low- and middle-income economies in Europe & Central Asia (% of total merchandise exports)\n",
      "TX.VAL.MRCH.R3.ZS     Merchandise exports to low- and middle-income economies in Latin America & the Caribbean (% of total merchandise exports)\n",
      "TX.VAL.MRCH.R4.ZS     Merchandise exports to low- and middle-income economies in Middle East & North Africa (% of total merchandise exports)\n",
      "TX.VAL.MRCH.R5.ZS     Merchandise exports to low- and middle-income economies in South Asia (% of total merchandise exports)\n",
      "TX.VAL.MRCH.R6.ZS     Merchandise exports to low- and middle-income economies in Sub-Saharan Africa (% of total merchandise exports)\n",
      "TX.VAL.MRCH.WR.ZS     Merchandise exports to low- and middle-income economies within region (% of total merchandise exports)\n",
      "                      58 elements\n"
     ]
    }
   ],
   "source": [
    "print((search1))"
   ]
  },
  {
   "cell_type": "code",
   "execution_count": null,
   "metadata": {},
   "outputs": [],
   "source": [
    "wb.series.info(db=2)"
   ]
  },
  {
   "cell_type": "code",
   "execution_count": 99,
   "metadata": {},
   "outputs": [
    {
     "data": {
      "text/plain": [
       "{'AGO',\n",
       " 'BDI',\n",
       " 'BWA',\n",
       " 'COD',\n",
       " 'COM',\n",
       " 'ERI',\n",
       " 'ETH',\n",
       " 'KEN',\n",
       " 'LSO',\n",
       " 'MDG',\n",
       " 'MOZ',\n",
       " 'MUS',\n",
       " 'MWI',\n",
       " 'NAM',\n",
       " 'RWA',\n",
       " 'SDN',\n",
       " 'SOM',\n",
       " 'SSD',\n",
       " 'STP',\n",
       " 'SWZ',\n",
       " 'SYC',\n",
       " 'TZA',\n",
       " 'UGA',\n",
       " 'ZAF',\n",
       " 'ZMB',\n",
       " 'ZWE'}"
      ]
     },
     "execution_count": 99,
     "metadata": {},
     "output_type": "execute_result"
    }
   ],
   "source": [
    "wb.region.members('AFE')"
   ]
  }
 ],
 "metadata": {
  "kernelspec": {
   "display_name": ".env",
   "language": "python",
   "name": "python3"
  },
  "language_info": {
   "codemirror_mode": {
    "name": "ipython",
    "version": 3
   },
   "file_extension": ".py",
   "mimetype": "text/x-python",
   "name": "python",
   "nbconvert_exporter": "python",
   "pygments_lexer": "ipython3",
   "version": "3.10.11"
  },
  "orig_nbformat": 4
 },
 "nbformat": 4,
 "nbformat_minor": 2
}
